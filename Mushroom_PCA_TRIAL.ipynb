{
 "cells": [
  {
   "attachments": {},
   "cell_type": "markdown",
   "metadata": {},
   "source": [
    "# Machine Learning on Mushroom Toxicity\n",
    "\n",
    "### Description of Dataset\n",
    "\n",
    "This dataset includes 61069 hypothetical mushrooms with caps based on 173 species (353 mushrooms per species). Each mushroom is identified as definitely edible, definitely poisonous, or of unknown edibility and not recommended (the latter class was combined with the poisonous class).\n",
    "\n",
    "### Variables\n",
    "\n",
    "One binary class divided in edible=e and poisonous=p (with the latter one also containing mushrooms of unknown edibility).\n",
    "\n",
    "Twenty remaining variables (n: nominal, m: metrical)\n",
    "1. cap-diameter (m): float number in cm\n",
    "2. cap-shape (n): bell=b, conical=c, convex=x, flat=f,\n",
    "sunken=s, spherical=p, others=o\n",
    "3. cap-surface (n): fibrous=i, grooves=g, scaly=y, smooth=s,\n",
    "shiny=h, leathery=l, silky=k, sticky=t,\n",
    "wrinkled=w, fleshy=e\n",
    "4. cap-color (n): brown=n, buff=b, gray=g, green=r, pink=p,\n",
    "purple=u, red=e, white=w, yellow=y, blue=l,\n",
    "orange=o, black=k\n",
    "5. does-bruise-bleed (n): bruises-or-bleeding=t,no=f\n",
    "6. gill-attachment (n): adnate=a, adnexed=x, decurrent=d, free=e,\n",
    "sinuate=s, pores=p, none=f, unknown=?\n",
    "7. gill-spacing (n): close=c, distant=d, none=f\n",
    "8. gill-color (n): see cap-color + none=f\n",
    "9. stem-height (m): float number in cm\n",
    "10. stem-width (m): float number in mm\n",
    "11. stem-root (n): bulbous=b, swollen=s, club=c, cup=u, equal=e,\n",
    "rhizomorphs=z, rooted=r\n",
    "12. stem-surface (n): see cap-surface + none=f\n",
    "13. stem-color (n): see cap-color + none=f\n",
    "14. veil-type (n): partial=p, universal=u\n",
    "15. veil-color (n): see cap-color + none=f\n",
    "16. has-ring (n): ring=t, none=f\n",
    "17. ring-type (n): cobwebby=c, evanescent=e, flaring=r, grooved=g,\n",
    "large=l, pendant=p, sheathing=s, zone=z, scaly=y, movable=m, none=f, unknown=?\n",
    "18. spore-print-color (n): see cap color\n",
    "19. habitat (n): grasses=g, leaves=l, meadows=m, paths=p, heaths=h,\n",
    "urban=u, waste=w, woods=d\n",
    "20. season (n): spring=s, summer=u, autumn=a, winter=w\n",
    "\n",
    "### Objectives\n",
    "\n",
    "Identify what features are most commonly associated with poisonous and non-poisonous mushrooms.\n",
    "\n",
    "\n"
   ]
  },
  {
   "attachments": {},
   "cell_type": "markdown",
   "metadata": {},
   "source": [
    "## Step 1: Data Cleaning & Preprocessing"
   ]
  },
  {
   "cell_type": "code",
   "execution_count": 23,
   "metadata": {},
   "outputs": [],
   "source": [
    "# Import packages\n",
    "import numpy as np \n",
    "import pandas as pd \n",
    "import matplotlib.pyplot as plt"
   ]
  },
  {
   "cell_type": "code",
   "execution_count": 24,
   "metadata": {},
   "outputs": [],
   "source": [
    "# Import data\n",
    "data = pd.read_csv('./Resources/secondary_data_shuffled.csv', sep=';')"
   ]
  },
  {
   "cell_type": "code",
   "execution_count": 25,
   "metadata": {},
   "outputs": [
    {
     "data": {
      "text/html": [
       "<div>\n",
       "<style scoped>\n",
       "    .dataframe tbody tr th:only-of-type {\n",
       "        vertical-align: middle;\n",
       "    }\n",
       "\n",
       "    .dataframe tbody tr th {\n",
       "        vertical-align: top;\n",
       "    }\n",
       "\n",
       "    .dataframe thead th {\n",
       "        text-align: right;\n",
       "    }\n",
       "</style>\n",
       "<table border=\"1\" class=\"dataframe\">\n",
       "  <thead>\n",
       "    <tr style=\"text-align: right;\">\n",
       "      <th></th>\n",
       "      <th>class</th>\n",
       "      <th>cap-diameter</th>\n",
       "      <th>cap-shape</th>\n",
       "      <th>cap-surface</th>\n",
       "      <th>cap-color</th>\n",
       "      <th>does-bruise-or-bleed</th>\n",
       "      <th>gill-attachment</th>\n",
       "      <th>gill-spacing</th>\n",
       "      <th>gill-color</th>\n",
       "      <th>stem-height</th>\n",
       "      <th>...</th>\n",
       "      <th>stem-root</th>\n",
       "      <th>stem-surface</th>\n",
       "      <th>stem-color</th>\n",
       "      <th>veil-type</th>\n",
       "      <th>veil-color</th>\n",
       "      <th>has-ring</th>\n",
       "      <th>ring-type</th>\n",
       "      <th>spore-print-color</th>\n",
       "      <th>habitat</th>\n",
       "      <th>season</th>\n",
       "    </tr>\n",
       "  </thead>\n",
       "  <tbody>\n",
       "    <tr>\n",
       "      <th>61064</th>\n",
       "      <td>p</td>\n",
       "      <td>12.79</td>\n",
       "      <td>x</td>\n",
       "      <td>e</td>\n",
       "      <td>n</td>\n",
       "      <td>t</td>\n",
       "      <td>p</td>\n",
       "      <td>NaN</td>\n",
       "      <td>e</td>\n",
       "      <td>9.60</td>\n",
       "      <td>...</td>\n",
       "      <td>c</td>\n",
       "      <td>NaN</td>\n",
       "      <td>y</td>\n",
       "      <td>NaN</td>\n",
       "      <td>NaN</td>\n",
       "      <td>f</td>\n",
       "      <td>f</td>\n",
       "      <td>NaN</td>\n",
       "      <td>d</td>\n",
       "      <td>u</td>\n",
       "    </tr>\n",
       "    <tr>\n",
       "      <th>61065</th>\n",
       "      <td>p</td>\n",
       "      <td>2.42</td>\n",
       "      <td>x</td>\n",
       "      <td>d</td>\n",
       "      <td>w</td>\n",
       "      <td>f</td>\n",
       "      <td>a</td>\n",
       "      <td>d</td>\n",
       "      <td>p</td>\n",
       "      <td>3.52</td>\n",
       "      <td>...</td>\n",
       "      <td>NaN</td>\n",
       "      <td>h</td>\n",
       "      <td>w</td>\n",
       "      <td>NaN</td>\n",
       "      <td>NaN</td>\n",
       "      <td>f</td>\n",
       "      <td>f</td>\n",
       "      <td>NaN</td>\n",
       "      <td>g</td>\n",
       "      <td>u</td>\n",
       "    </tr>\n",
       "    <tr>\n",
       "      <th>61066</th>\n",
       "      <td>e</td>\n",
       "      <td>12.33</td>\n",
       "      <td>s</td>\n",
       "      <td>NaN</td>\n",
       "      <td>u</td>\n",
       "      <td>f</td>\n",
       "      <td>s</td>\n",
       "      <td>c</td>\n",
       "      <td>u</td>\n",
       "      <td>7.71</td>\n",
       "      <td>...</td>\n",
       "      <td>NaN</td>\n",
       "      <td>NaN</td>\n",
       "      <td>u</td>\n",
       "      <td>NaN</td>\n",
       "      <td>NaN</td>\n",
       "      <td>f</td>\n",
       "      <td>f</td>\n",
       "      <td>NaN</td>\n",
       "      <td>d</td>\n",
       "      <td>a</td>\n",
       "    </tr>\n",
       "    <tr>\n",
       "      <th>61067</th>\n",
       "      <td>p</td>\n",
       "      <td>3.85</td>\n",
       "      <td>s</td>\n",
       "      <td>w</td>\n",
       "      <td>u</td>\n",
       "      <td>f</td>\n",
       "      <td>a</td>\n",
       "      <td>c</td>\n",
       "      <td>u</td>\n",
       "      <td>5.32</td>\n",
       "      <td>...</td>\n",
       "      <td>NaN</td>\n",
       "      <td>s</td>\n",
       "      <td>u</td>\n",
       "      <td>NaN</td>\n",
       "      <td>NaN</td>\n",
       "      <td>f</td>\n",
       "      <td>f</td>\n",
       "      <td>NaN</td>\n",
       "      <td>l</td>\n",
       "      <td>a</td>\n",
       "    </tr>\n",
       "    <tr>\n",
       "      <th>61068</th>\n",
       "      <td>p</td>\n",
       "      <td>1.98</td>\n",
       "      <td>x</td>\n",
       "      <td>i</td>\n",
       "      <td>k</td>\n",
       "      <td>f</td>\n",
       "      <td>a</td>\n",
       "      <td>NaN</td>\n",
       "      <td>w</td>\n",
       "      <td>3.16</td>\n",
       "      <td>...</td>\n",
       "      <td>NaN</td>\n",
       "      <td>NaN</td>\n",
       "      <td>w</td>\n",
       "      <td>NaN</td>\n",
       "      <td>NaN</td>\n",
       "      <td>f</td>\n",
       "      <td>f</td>\n",
       "      <td>p</td>\n",
       "      <td>g</td>\n",
       "      <td>a</td>\n",
       "    </tr>\n",
       "  </tbody>\n",
       "</table>\n",
       "<p>5 rows × 21 columns</p>\n",
       "</div>"
      ],
      "text/plain": [
       "      class  cap-diameter cap-shape cap-surface cap-color  \\\n",
       "61064     p         12.79         x           e         n   \n",
       "61065     p          2.42         x           d         w   \n",
       "61066     e         12.33         s         NaN         u   \n",
       "61067     p          3.85         s           w         u   \n",
       "61068     p          1.98         x           i         k   \n",
       "\n",
       "      does-bruise-or-bleed gill-attachment gill-spacing gill-color  \\\n",
       "61064                    t               p          NaN          e   \n",
       "61065                    f               a            d          p   \n",
       "61066                    f               s            c          u   \n",
       "61067                    f               a            c          u   \n",
       "61068                    f               a          NaN          w   \n",
       "\n",
       "       stem-height  ...  stem-root stem-surface stem-color veil-type  \\\n",
       "61064         9.60  ...          c          NaN          y       NaN   \n",
       "61065         3.52  ...        NaN            h          w       NaN   \n",
       "61066         7.71  ...        NaN          NaN          u       NaN   \n",
       "61067         5.32  ...        NaN            s          u       NaN   \n",
       "61068         3.16  ...        NaN          NaN          w       NaN   \n",
       "\n",
       "      veil-color has-ring ring-type spore-print-color habitat season  \n",
       "61064        NaN        f         f               NaN       d      u  \n",
       "61065        NaN        f         f               NaN       g      u  \n",
       "61066        NaN        f         f               NaN       d      a  \n",
       "61067        NaN        f         f               NaN       l      a  \n",
       "61068        NaN        f         f                 p       g      a  \n",
       "\n",
       "[5 rows x 21 columns]"
      ]
     },
     "execution_count": 25,
     "metadata": {},
     "output_type": "execute_result"
    }
   ],
   "source": [
    "# Check the data\n",
    "data.tail()"
   ]
  },
  {
   "cell_type": "code",
   "execution_count": 34,
   "metadata": {},
   "outputs": [
    {
     "data": {
      "text/html": [
       "<div>\n",
       "<style scoped>\n",
       "    .dataframe tbody tr th:only-of-type {\n",
       "        vertical-align: middle;\n",
       "    }\n",
       "\n",
       "    .dataframe tbody tr th {\n",
       "        vertical-align: top;\n",
       "    }\n",
       "\n",
       "    .dataframe thead th {\n",
       "        text-align: right;\n",
       "    }\n",
       "</style>\n",
       "<table border=\"1\" class=\"dataframe\">\n",
       "  <thead>\n",
       "    <tr style=\"text-align: right;\">\n",
       "      <th></th>\n",
       "      <th>class</th>\n",
       "      <th>cap-diameter</th>\n",
       "      <th>cap-shape</th>\n",
       "      <th>cap-surface</th>\n",
       "      <th>cap-color</th>\n",
       "      <th>does-bruise-or-bleed</th>\n",
       "      <th>gill-attachment</th>\n",
       "      <th>gill-spacing</th>\n",
       "      <th>gill-color</th>\n",
       "      <th>stem-height</th>\n",
       "      <th>...</th>\n",
       "      <th>stem-root</th>\n",
       "      <th>stem-surface</th>\n",
       "      <th>stem-color</th>\n",
       "      <th>veil-type</th>\n",
       "      <th>veil-color</th>\n",
       "      <th>has-ring</th>\n",
       "      <th>ring-type</th>\n",
       "      <th>spore-print-color</th>\n",
       "      <th>habitat</th>\n",
       "      <th>season</th>\n",
       "    </tr>\n",
       "  </thead>\n",
       "  <tbody>\n",
       "    <tr>\n",
       "      <th>0</th>\n",
       "      <td>0</td>\n",
       "      <td>84</td>\n",
       "      <td>6</td>\n",
       "      <td>2</td>\n",
       "      <td>11</td>\n",
       "      <td>0</td>\n",
       "      <td>1</td>\n",
       "      <td>3</td>\n",
       "      <td>10</td>\n",
       "      <td>394</td>\n",
       "      <td>...</td>\n",
       "      <td>5</td>\n",
       "      <td>6</td>\n",
       "      <td>12</td>\n",
       "      <td>1</td>\n",
       "      <td>6</td>\n",
       "      <td>0</td>\n",
       "      <td>1</td>\n",
       "      <td>7</td>\n",
       "      <td>0</td>\n",
       "      <td>0</td>\n",
       "    </tr>\n",
       "    <tr>\n",
       "      <th>1</th>\n",
       "      <td>0</td>\n",
       "      <td>990</td>\n",
       "      <td>2</td>\n",
       "      <td>1</td>\n",
       "      <td>0</td>\n",
       "      <td>0</td>\n",
       "      <td>7</td>\n",
       "      <td>0</td>\n",
       "      <td>0</td>\n",
       "      <td>358</td>\n",
       "      <td>...</td>\n",
       "      <td>5</td>\n",
       "      <td>8</td>\n",
       "      <td>11</td>\n",
       "      <td>1</td>\n",
       "      <td>6</td>\n",
       "      <td>1</td>\n",
       "      <td>1</td>\n",
       "      <td>7</td>\n",
       "      <td>0</td>\n",
       "      <td>0</td>\n",
       "    </tr>\n",
       "    <tr>\n",
       "      <th>2</th>\n",
       "      <td>1</td>\n",
       "      <td>50</td>\n",
       "      <td>6</td>\n",
       "      <td>2</td>\n",
       "      <td>7</td>\n",
       "      <td>0</td>\n",
       "      <td>0</td>\n",
       "      <td>3</td>\n",
       "      <td>7</td>\n",
       "      <td>349</td>\n",
       "      <td>...</td>\n",
       "      <td>5</td>\n",
       "      <td>2</td>\n",
       "      <td>4</td>\n",
       "      <td>1</td>\n",
       "      <td>6</td>\n",
       "      <td>0</td>\n",
       "      <td>1</td>\n",
       "      <td>7</td>\n",
       "      <td>0</td>\n",
       "      <td>2</td>\n",
       "    </tr>\n",
       "    <tr>\n",
       "      <th>3</th>\n",
       "      <td>1</td>\n",
       "      <td>385</td>\n",
       "      <td>6</td>\n",
       "      <td>11</td>\n",
       "      <td>7</td>\n",
       "      <td>0</td>\n",
       "      <td>6</td>\n",
       "      <td>3</td>\n",
       "      <td>10</td>\n",
       "      <td>345</td>\n",
       "      <td>...</td>\n",
       "      <td>5</td>\n",
       "      <td>8</td>\n",
       "      <td>11</td>\n",
       "      <td>1</td>\n",
       "      <td>6</td>\n",
       "      <td>0</td>\n",
       "      <td>1</td>\n",
       "      <td>7</td>\n",
       "      <td>0</td>\n",
       "      <td>0</td>\n",
       "    </tr>\n",
       "    <tr>\n",
       "      <th>4</th>\n",
       "      <td>0</td>\n",
       "      <td>266</td>\n",
       "      <td>2</td>\n",
       "      <td>7</td>\n",
       "      <td>10</td>\n",
       "      <td>0</td>\n",
       "      <td>1</td>\n",
       "      <td>1</td>\n",
       "      <td>10</td>\n",
       "      <td>157</td>\n",
       "      <td>...</td>\n",
       "      <td>5</td>\n",
       "      <td>8</td>\n",
       "      <td>11</td>\n",
       "      <td>1</td>\n",
       "      <td>6</td>\n",
       "      <td>0</td>\n",
       "      <td>1</td>\n",
       "      <td>7</td>\n",
       "      <td>4</td>\n",
       "      <td>0</td>\n",
       "    </tr>\n",
       "  </tbody>\n",
       "</table>\n",
       "<p>5 rows × 21 columns</p>\n",
       "</div>"
      ],
      "text/plain": [
       "   class  cap-diameter  cap-shape  cap-surface  cap-color  \\\n",
       "0      0            84          6            2         11   \n",
       "1      0           990          2            1          0   \n",
       "2      1            50          6            2          7   \n",
       "3      1           385          6           11          7   \n",
       "4      0           266          2            7         10   \n",
       "\n",
       "   does-bruise-or-bleed  gill-attachment  gill-spacing  gill-color  \\\n",
       "0                     0                1             3          10   \n",
       "1                     0                7             0           0   \n",
       "2                     0                0             3           7   \n",
       "3                     0                6             3          10   \n",
       "4                     0                1             1          10   \n",
       "\n",
       "   stem-height  ...  stem-root  stem-surface  stem-color  veil-type  \\\n",
       "0          394  ...          5             6          12          1   \n",
       "1          358  ...          5             8          11          1   \n",
       "2          349  ...          5             2           4          1   \n",
       "3          345  ...          5             8          11          1   \n",
       "4          157  ...          5             8          11          1   \n",
       "\n",
       "   veil-color  has-ring  ring-type  spore-print-color  habitat  season  \n",
       "0           6         0          1                  7        0       0  \n",
       "1           6         1          1                  7        0       0  \n",
       "2           6         0          1                  7        0       2  \n",
       "3           6         0          1                  7        0       0  \n",
       "4           6         0          1                  7        4       0  \n",
       "\n",
       "[5 rows x 21 columns]"
      ]
     },
     "execution_count": 34,
     "metadata": {},
     "output_type": "execute_result"
    }
   ],
   "source": [
    "from sklearn.preprocessing import LabelEncoder\n",
    "labelencoder=LabelEncoder()\n",
    "for col in data.columns:\n",
    "    data[col] = labelencoder.fit_transform(data[col])\n",
    " \n",
    "data.head()"
   ]
  },
  {
   "cell_type": "code",
   "execution_count": 43,
   "metadata": {},
   "outputs": [],
   "source": [
    "data = data.dropna(axis=1)"
   ]
  },
  {
   "cell_type": "code",
   "execution_count": null,
   "metadata": {},
   "outputs": [],
   "source": []
  },
  {
   "cell_type": "code",
   "execution_count": 44,
   "metadata": {},
   "outputs": [],
   "source": [
    "X = data.drop(['class'], axis=1)\n",
    "y = data['class']"
   ]
  },
  {
   "cell_type": "code",
   "execution_count": 45,
   "metadata": {},
   "outputs": [
    {
     "data": {
      "text/html": [
       "<div>\n",
       "<style scoped>\n",
       "    .dataframe tbody tr th:only-of-type {\n",
       "        vertical-align: middle;\n",
       "    }\n",
       "\n",
       "    .dataframe tbody tr th {\n",
       "        vertical-align: top;\n",
       "    }\n",
       "\n",
       "    .dataframe thead th {\n",
       "        text-align: right;\n",
       "    }\n",
       "</style>\n",
       "<table border=\"1\" class=\"dataframe\">\n",
       "  <thead>\n",
       "    <tr style=\"text-align: right;\">\n",
       "      <th></th>\n",
       "      <th>cap-diameter</th>\n",
       "      <th>cap-shape</th>\n",
       "      <th>cap-surface</th>\n",
       "      <th>cap-color</th>\n",
       "      <th>does-bruise-or-bleed</th>\n",
       "      <th>gill-attachment</th>\n",
       "      <th>gill-spacing</th>\n",
       "      <th>gill-color</th>\n",
       "      <th>stem-height</th>\n",
       "      <th>stem-width</th>\n",
       "      <th>stem-root</th>\n",
       "      <th>stem-surface</th>\n",
       "      <th>stem-color</th>\n",
       "      <th>veil-type</th>\n",
       "      <th>veil-color</th>\n",
       "      <th>has-ring</th>\n",
       "      <th>ring-type</th>\n",
       "      <th>spore-print-color</th>\n",
       "      <th>habitat</th>\n",
       "      <th>season</th>\n",
       "    </tr>\n",
       "  </thead>\n",
       "  <tbody>\n",
       "    <tr>\n",
       "      <th>0</th>\n",
       "      <td>84</td>\n",
       "      <td>6</td>\n",
       "      <td>2</td>\n",
       "      <td>11</td>\n",
       "      <td>0</td>\n",
       "      <td>1</td>\n",
       "      <td>3</td>\n",
       "      <td>10</td>\n",
       "      <td>394</td>\n",
       "      <td>119</td>\n",
       "      <td>5</td>\n",
       "      <td>6</td>\n",
       "      <td>12</td>\n",
       "      <td>1</td>\n",
       "      <td>6</td>\n",
       "      <td>0</td>\n",
       "      <td>1</td>\n",
       "      <td>7</td>\n",
       "      <td>0</td>\n",
       "      <td>0</td>\n",
       "    </tr>\n",
       "    <tr>\n",
       "      <th>1</th>\n",
       "      <td>990</td>\n",
       "      <td>2</td>\n",
       "      <td>1</td>\n",
       "      <td>0</td>\n",
       "      <td>0</td>\n",
       "      <td>7</td>\n",
       "      <td>0</td>\n",
       "      <td>0</td>\n",
       "      <td>358</td>\n",
       "      <td>1890</td>\n",
       "      <td>5</td>\n",
       "      <td>8</td>\n",
       "      <td>11</td>\n",
       "      <td>1</td>\n",
       "      <td>6</td>\n",
       "      <td>1</td>\n",
       "      <td>1</td>\n",
       "      <td>7</td>\n",
       "      <td>0</td>\n",
       "      <td>0</td>\n",
       "    </tr>\n",
       "    <tr>\n",
       "      <th>2</th>\n",
       "      <td>50</td>\n",
       "      <td>6</td>\n",
       "      <td>2</td>\n",
       "      <td>7</td>\n",
       "      <td>0</td>\n",
       "      <td>0</td>\n",
       "      <td>3</td>\n",
       "      <td>7</td>\n",
       "      <td>349</td>\n",
       "      <td>61</td>\n",
       "      <td>5</td>\n",
       "      <td>2</td>\n",
       "      <td>4</td>\n",
       "      <td>1</td>\n",
       "      <td>6</td>\n",
       "      <td>0</td>\n",
       "      <td>1</td>\n",
       "      <td>7</td>\n",
       "      <td>0</td>\n",
       "      <td>2</td>\n",
       "    </tr>\n",
       "    <tr>\n",
       "      <th>3</th>\n",
       "      <td>385</td>\n",
       "      <td>6</td>\n",
       "      <td>11</td>\n",
       "      <td>7</td>\n",
       "      <td>0</td>\n",
       "      <td>6</td>\n",
       "      <td>3</td>\n",
       "      <td>10</td>\n",
       "      <td>345</td>\n",
       "      <td>598</td>\n",
       "      <td>5</td>\n",
       "      <td>8</td>\n",
       "      <td>11</td>\n",
       "      <td>1</td>\n",
       "      <td>6</td>\n",
       "      <td>0</td>\n",
       "      <td>1</td>\n",
       "      <td>7</td>\n",
       "      <td>0</td>\n",
       "      <td>0</td>\n",
       "    </tr>\n",
       "    <tr>\n",
       "      <th>4</th>\n",
       "      <td>266</td>\n",
       "      <td>2</td>\n",
       "      <td>7</td>\n",
       "      <td>10</td>\n",
       "      <td>0</td>\n",
       "      <td>1</td>\n",
       "      <td>1</td>\n",
       "      <td>10</td>\n",
       "      <td>157</td>\n",
       "      <td>464</td>\n",
       "      <td>5</td>\n",
       "      <td>8</td>\n",
       "      <td>11</td>\n",
       "      <td>1</td>\n",
       "      <td>6</td>\n",
       "      <td>0</td>\n",
       "      <td>1</td>\n",
       "      <td>7</td>\n",
       "      <td>4</td>\n",
       "      <td>0</td>\n",
       "    </tr>\n",
       "  </tbody>\n",
       "</table>\n",
       "</div>"
      ],
      "text/plain": [
       "   cap-diameter  cap-shape  cap-surface  cap-color  does-bruise-or-bleed  \\\n",
       "0            84          6            2         11                     0   \n",
       "1           990          2            1          0                     0   \n",
       "2            50          6            2          7                     0   \n",
       "3           385          6           11          7                     0   \n",
       "4           266          2            7         10                     0   \n",
       "\n",
       "   gill-attachment  gill-spacing  gill-color  stem-height  stem-width  \\\n",
       "0                1             3          10          394         119   \n",
       "1                7             0           0          358        1890   \n",
       "2                0             3           7          349          61   \n",
       "3                6             3          10          345         598   \n",
       "4                1             1          10          157         464   \n",
       "\n",
       "   stem-root  stem-surface  stem-color  veil-type  veil-color  has-ring  \\\n",
       "0          5             6          12          1           6         0   \n",
       "1          5             8          11          1           6         1   \n",
       "2          5             2           4          1           6         0   \n",
       "3          5             8          11          1           6         0   \n",
       "4          5             8          11          1           6         0   \n",
       "\n",
       "   ring-type  spore-print-color  habitat  season  \n",
       "0          1                  7        0       0  \n",
       "1          1                  7        0       0  \n",
       "2          1                  7        0       2  \n",
       "3          1                  7        0       0  \n",
       "4          1                  7        4       0  "
      ]
     },
     "execution_count": 45,
     "metadata": {},
     "output_type": "execute_result"
    }
   ],
   "source": [
    "X.head()"
   ]
  },
  {
   "cell_type": "code",
   "execution_count": 46,
   "metadata": {},
   "outputs": [
    {
     "data": {
      "text/plain": [
       "0    0\n",
       "1    0\n",
       "2    1\n",
       "3    1\n",
       "4    0\n",
       "Name: class, dtype: int32"
      ]
     },
     "execution_count": 46,
     "metadata": {},
     "output_type": "execute_result"
    }
   ],
   "source": [
    "y.head()"
   ]
  },
  {
   "cell_type": "code",
   "execution_count": 47,
   "metadata": {},
   "outputs": [
    {
     "data": {
      "text/plain": [
       "array([[-1.24911477,  0.92005277, -1.28489638, ...,  0.30780241,\n",
       "        -0.49021951, -0.95762422],\n",
       "       [ 0.8740304 , -0.95057697, -1.55506349, ...,  0.30780241,\n",
       "        -0.49021951, -0.95762422],\n",
       "       [-1.3287913 ,  0.92005277, -1.28489638, ...,  0.30780241,\n",
       "        -0.49021951,  0.85737697],\n",
       "       ...,\n",
       "       [ 1.34505929,  0.45239533,  1.14660766, ...,  0.30780241,\n",
       "        -0.49021951, -0.95762422],\n",
       "       [-0.64216709,  0.45239533,  0.60627343, ...,  0.30780241,\n",
       "         1.86970498, -0.95762422],\n",
       "       [-1.080388  ,  0.92005277, -0.74456215, ..., -2.42882147,\n",
       "         0.29642198, -0.95762422]])"
      ]
     },
     "execution_count": 47,
     "metadata": {},
     "output_type": "execute_result"
    }
   ],
   "source": [
    "from sklearn.preprocessing import StandardScaler\n",
    "scaler = StandardScaler()\n",
    "X=scaler.fit_transform(X)\n",
    "X"
   ]
  },
  {
   "cell_type": "code",
   "execution_count": 48,
   "metadata": {},
   "outputs": [
    {
     "data": {
      "text/plain": [
       "array([[-1.07755420e+00,  6.87063197e-02, -8.51451460e-01, ...,\n",
       "         3.96362140e-01,  2.10460552e-01, -1.24435623e-01],\n",
       "       [ 1.09433018e-01,  1.85978126e-01,  6.67673368e-01, ...,\n",
       "        -5.93170648e-01,  1.27527400e+00,  1.44819317e-01],\n",
       "       [-2.13295912e+00,  4.95421638e-01,  1.67498762e+00, ...,\n",
       "         3.60138137e-01, -1.25113782e-03, -2.88266404e-01],\n",
       "       ...,\n",
       "       [ 9.16338500e-01, -1.66036946e+00, -1.48242099e+00, ...,\n",
       "         1.05615405e-01, -4.06466338e-02,  2.89546864e-01],\n",
       "       [-1.48081512e+00,  1.82201015e-01, -1.67410178e+00, ...,\n",
       "         2.05438798e-01, -3.65171804e-01,  5.82659276e-02],\n",
       "       [-1.35232638e+00,  6.26020069e-01,  8.73377118e-01, ...,\n",
       "        -3.36367455e-01,  4.39015090e-01,  1.85553980e-01]])"
      ]
     },
     "execution_count": 48,
     "metadata": {},
     "output_type": "execute_result"
    }
   ],
   "source": [
    "\n",
    "from sklearn.decomposition import PCA\n",
    "pca = PCA()\n",
    "pca.fit_transform(X)"
   ]
  },
  {
   "cell_type": "code",
   "execution_count": 49,
   "metadata": {},
   "outputs": [],
   "source": [
    "#covariance\n",
    "covariance=pca.get_covariance()"
   ]
  },
  {
   "cell_type": "code",
   "execution_count": 50,
   "metadata": {},
   "outputs": [
    {
     "data": {
      "text/plain": [
       "array([2.92056159, 2.06203934, 1.57117255, 1.46558065, 1.24706573,\n",
       "       1.18130417, 1.03257847, 1.01137922, 0.96884251, 0.94222571,\n",
       "       0.86782622, 0.85301735, 0.76021101, 0.67312384, 0.60039848,\n",
       "       0.55090473, 0.44858004, 0.42889627, 0.2517684 , 0.16285121])"
      ]
     },
     "execution_count": 50,
     "metadata": {},
     "output_type": "execute_result"
    }
   ],
   "source": [
    "explained_variance=pca.explained_variance_\n",
    "explained_variance"
   ]
  },
  {
   "cell_type": "code",
   "execution_count": 53,
   "metadata": {},
   "outputs": [],
   "source": [
    "with plt.style.context('dark_background'):\n",
    "    plt.figure(figsize=(6, 4))\n",
    "    \n",
    "    plt.bar(range(20), explained_variance, alpha=0.5, align='center',\n",
    "            label='individual explained variance')\n",
    "    plt.ylabel('Explained variance ratio')\n",
    "    plt.xlabel('Principal components')\n",
    "    plt.legend(loc='best')\n",
    "    plt.tight_layout()"
   ]
  },
  {
   "cell_type": "code",
   "execution_count": null,
   "metadata": {},
   "outputs": [],
   "source": []
  },
  {
   "cell_type": "code",
   "execution_count": null,
   "metadata": {},
   "outputs": [],
   "source": []
  },
  {
   "cell_type": "code",
   "execution_count": null,
   "metadata": {},
   "outputs": [],
   "source": []
  },
  {
   "cell_type": "code",
   "execution_count": null,
   "metadata": {},
   "outputs": [],
   "source": []
  },
  {
   "cell_type": "code",
   "execution_count": null,
   "metadata": {},
   "outputs": [],
   "source": []
  },
  {
   "cell_type": "code",
   "execution_count": null,
   "metadata": {},
   "outputs": [],
   "source": []
  },
  {
   "cell_type": "code",
   "execution_count": null,
   "metadata": {},
   "outputs": [],
   "source": []
  },
  {
   "cell_type": "code",
   "execution_count": 16,
   "metadata": {},
   "outputs": [],
   "source": [
    "\n",
    "X_train, X_test, y_train, y_test = train_test_split(X, y, random_state=2)"
   ]
  },
  {
   "cell_type": "code",
   "execution_count": 17,
   "metadata": {},
   "outputs": [],
   "source": [
    "from sklearn.preprocessing import StandardScaler\n",
    "sc = StandardScaler()\n",
    "sc.fit(X_train)\n",
    "X2 = sc.fit_transform(X)\n",
    "X_test = sc.transform(X_test)"
   ]
  },
  {
   "cell_type": "code",
   "execution_count": 29,
   "metadata": {},
   "outputs": [
    {
     "name": "stderr",
     "output_type": "stream",
     "text": [
      "c:\\Users\\Owner\\AppData\\Local\\Programs\\Python\\Python39\\lib\\site-packages\\sklearn\\base.py:439: UserWarning: X does not have valid feature names, but PCA was fitted with feature names\n",
      "  warnings.warn(\n"
     ]
    }
   ],
   "source": [
    "pca = PCA(n_components=11)\n",
    "X_train_pca = pca.fit_transform(X_train)\n",
    "X_test_pca = pca.transform(X_test)"
   ]
  },
  {
   "cell_type": "code",
   "execution_count": 30,
   "metadata": {},
   "outputs": [
    {
     "name": "stdout",
     "output_type": "stream",
     "text": [
      "Original shape: (45801, 11)\n",
      "Transformed Shape of PCA data: (45801, 11)\n"
     ]
    },
    {
     "data": {
      "image/png": "[encoded data removed]",
      "text/plain": [
       "<Figure size 640x480 with 1 Axes>"
      ]
     },
     "metadata": {},
     "output_type": "display_data"
    }
   ],
   "source": [
    "print(\"Original shape:\", X_train.shape)\n",
    "print(\"Transformed Shape of PCA data:\", X_train_pca.shape)\n",
    "\n",
    "# Plot the transformed data using a scatter plot(lower alpha allows for better visualization when there are overlapping points.)\n",
    "plt.scatter(X_train_pca[:, 0], X_train_pca[:, 1],alpha=0.1)\n",
    "plt.xlabel(\"Principal Component 1\")\n",
    "plt.ylabel(\"Principal Component 2\")\n",
    "plt.title(\"PCA - Transformed Data\")\n",
    "plt.show()"
   ]
  },
  {
   "cell_type": "code",
   "execution_count": 31,
   "metadata": {},
   "outputs": [
    {
     "data": {
      "text/plain": [
       "array([8.76871393e-01, 8.07420004e-02, 4.23526053e-02, 1.25624184e-05,\n",
       "       7.85530189e-06, 6.77152679e-06, 4.00022922e-06, 1.43626681e-06,\n",
       "       1.11063794e-06, 1.45397509e-07, 1.19768584e-07])"
      ]
     },
     "execution_count": 31,
     "metadata": {},
     "output_type": "execute_result"
    }
   ],
   "source": [
    "pca.explained_variance_ratio_"
   ]
  },
  {
   "cell_type": "code",
   "execution_count": 32,
   "metadata": {},
   "outputs": [
    {
     "name": "stdout",
     "output_type": "stream",
     "text": [
      "PCA1 values: [-1156.47512985   793.35075211 -1229.6216956  ...  1151.86392091\n",
      "  -702.24841279 -1098.40672651]\n",
      "PCA2 values: [ -15.60046301 -257.09865512  -49.16423668 ...    1.29686036  -13.07527289\n",
      " -170.81720156]\n"
     ]
    }
   ],
   "source": [
    "from sklearn.decomposition import PCA\n",
    "import numpy as np\n",
    "\n",
    "# Assuming you already have the dataset X\n",
    "\n",
    "# Create an instance of PCA with n_components=2\n",
    "pca = PCA(n_components=2)\n",
    "\n",
    "# Fit and transform the dataset X using PCA\n",
    "X_pca = pca.fit_transform(X)\n",
    "\n",
    "# Get the values of PCA1 and PCA2\n",
    "PCA1 = X_pca[:, 0]\n",
    "PCA2 = X_pca[:, 1]\n",
    "\n",
    "# Print the values of PCA1 and PCA2\n",
    "print(\"PCA1 values:\", PCA1)\n",
    "print(\"PCA2 values:\", PCA2)"
   ]
  },
  {
   "attachments": {},
   "cell_type": "markdown",
   "metadata": {},
   "source": [
    "The first principal component (PC1) explains approximately 87.69% of the variance in the data.\n",
    "The second principal component (PC2) explains approximately 8.07% of the variance in the data.\n",
    "Together, these two principal components explain approximately 95.76% of the total variance in the original data."
   ]
  },
  {
   "cell_type": "code",
   "execution_count": 28,
   "metadata": {},
   "outputs": [
    {
     "ename": "TypeError",
     "evalue": "unhashable type: 'list'",
     "output_type": "error",
     "traceback": [
      "\u001b[1;31m---------------------------------------------------------------------------\u001b[0m",
      "\u001b[1;31mTypeError\u001b[0m                                 Traceback (most recent call last)",
      "Cell \u001b[1;32mIn[28], line 32\u001b[0m\n\u001b[0;32m     30\u001b[0m \u001b[39mfor\u001b[39;00m attribute, explained_variance \u001b[39min\u001b[39;00m explained_variance_dict\u001b[39m.\u001b[39mitems():\n\u001b[0;32m     31\u001b[0m     selected_attributes\u001b[39m.\u001b[39mappend(attribute)\n\u001b[1;32m---> 32\u001b[0m     \u001b[39mif\u001b[39;00m np\u001b[39m.\u001b[39msum(explained_variance_dict[selected_attributes]) \u001b[39m>\u001b[39m\u001b[39m=\u001b[39m threshold_explained_variance:\n\u001b[0;32m     33\u001b[0m         \u001b[39mbreak\u001b[39;00m\n\u001b[0;32m     35\u001b[0m \u001b[39mprint\u001b[39m(\u001b[39m\"\u001b[39m\u001b[39mAttributes contributing to\u001b[39m\u001b[39m\"\u001b[39m, threshold_explained_variance \u001b[39m*\u001b[39m \u001b[39m100\u001b[39m, \u001b[39m\"\u001b[39m\u001b[39m% e\u001b[39;00m\u001b[39mxplained variance:\u001b[39m\u001b[39m\"\u001b[39m, selected_attributes)\n",
      "\u001b[1;31mTypeError\u001b[0m: unhashable type: 'list'"
     ]
    }
   ],
   "source": []
  },
  {
   "cell_type": "code",
   "execution_count": 21,
   "metadata": {},
   "outputs": [
    {
     "data": {
      "text/html": [
       "<style>#sk-container-id-1 {color: black;background-color: white;}#sk-container-id-1 pre{padding: 0;}#sk-container-id-1 div.sk-toggleable {background-color: white;}#sk-container-id-1 label.sk-toggleable__label {cursor: pointer;display: block;width: 100%;margin-bottom: 0;padding: 0.3em;box-sizing: border-box;text-align: center;}#sk-container-id-1 label.sk-toggleable__label-arrow:before {content: \"▸\";float: left;margin-right: 0.25em;color: #696969;}#sk-container-id-1 label.sk-toggleable__label-arrow:hover:before {color: black;}#sk-container-id-1 div.sk-estimator:hover label.sk-toggleable__label-arrow:before {color: black;}#sk-container-id-1 div.sk-toggleable__content {max-height: 0;max-width: 0;overflow: hidden;text-align: left;background-color: #f0f8ff;}#sk-container-id-1 div.sk-toggleable__content pre {margin: 0.2em;color: black;border-radius: 0.25em;background-color: #f0f8ff;}#sk-container-id-1 input.sk-toggleable__control:checked~div.sk-toggleable__content {max-height: 200px;max-width: 100%;overflow: auto;}#sk-container-id-1 input.sk-toggleable__control:checked~label.sk-toggleable__label-arrow:before {content: \"▾\";}#sk-container-id-1 div.sk-estimator input.sk-toggleable__control:checked~label.sk-toggleable__label {background-color: #d4ebff;}#sk-container-id-1 div.sk-label input.sk-toggleable__control:checked~label.sk-toggleable__label {background-color: #d4ebff;}#sk-container-id-1 input.sk-hidden--visually {border: 0;clip: rect(1px 1px 1px 1px);clip: rect(1px, 1px, 1px, 1px);height: 1px;margin: -1px;overflow: hidden;padding: 0;position: absolute;width: 1px;}#sk-container-id-1 div.sk-estimator {font-family: monospace;background-color: #f0f8ff;border: 1px dotted black;border-radius: 0.25em;box-sizing: border-box;margin-bottom: 0.5em;}#sk-container-id-1 div.sk-estimator:hover {background-color: #d4ebff;}#sk-container-id-1 div.sk-parallel-item::after {content: \"\";width: 100%;border-bottom: 1px solid gray;flex-grow: 1;}#sk-container-id-1 div.sk-label:hover label.sk-toggleable__label {background-color: #d4ebff;}#sk-container-id-1 div.sk-serial::before {content: \"\";position: absolute;border-left: 1px solid gray;box-sizing: border-box;top: 0;bottom: 0;left: 50%;z-index: 0;}#sk-container-id-1 div.sk-serial {display: flex;flex-direction: column;align-items: center;background-color: white;padding-right: 0.2em;padding-left: 0.2em;position: relative;}#sk-container-id-1 div.sk-item {position: relative;z-index: 1;}#sk-container-id-1 div.sk-parallel {display: flex;align-items: stretch;justify-content: center;background-color: white;position: relative;}#sk-container-id-1 div.sk-item::before, #sk-container-id-1 div.sk-parallel-item::before {content: \"\";position: absolute;border-left: 1px solid gray;box-sizing: border-box;top: 0;bottom: 0;left: 50%;z-index: -1;}#sk-container-id-1 div.sk-parallel-item {display: flex;flex-direction: column;z-index: 1;position: relative;background-color: white;}#sk-container-id-1 div.sk-parallel-item:first-child::after {align-self: flex-end;width: 50%;}#sk-container-id-1 div.sk-parallel-item:last-child::after {align-self: flex-start;width: 50%;}#sk-container-id-1 div.sk-parallel-item:only-child::after {width: 0;}#sk-container-id-1 div.sk-dashed-wrapped {border: 1px dashed gray;margin: 0 0.4em 0.5em 0.4em;box-sizing: border-box;padding-bottom: 0.4em;background-color: white;}#sk-container-id-1 div.sk-label label {font-family: monospace;font-weight: bold;display: inline-block;line-height: 1.2em;}#sk-container-id-1 div.sk-label-container {text-align: center;}#sk-container-id-1 div.sk-container {/* jupyter's `normalize.less` sets `[hidden] { display: none; }` but bootstrap.min.css set `[hidden] { display: none !important; }` so we also need the `!important` here to be able to override the default hidden behavior on the sphinx rendered scikit-learn.org. See: https://github.com/scikit-learn/scikit-learn/issues/21755 */display: inline-block !important;position: relative;}#sk-container-id-1 div.sk-text-repr-fallback {display: none;}</style><div id=\"sk-container-id-1\" class=\"sk-top-container\"><div class=\"sk-text-repr-fallback\"><pre>LogisticRegression()</pre><b>In a Jupyter environment, please rerun this cell to show the HTML representation or trust the notebook. <br />On GitHub, the HTML representation is unable to render, please try loading this page with nbviewer.org.</b></div><div class=\"sk-container\" hidden><div class=\"sk-item\"><div class=\"sk-estimator sk-toggleable\"><input class=\"sk-toggleable__control sk-hidden--visually\" id=\"sk-estimator-id-1\" type=\"checkbox\" checked><label for=\"sk-estimator-id-1\" class=\"sk-toggleable__label sk-toggleable__label-arrow\">LogisticRegression</label><div class=\"sk-toggleable__content\"><pre>LogisticRegression()</pre></div></div></div></div></div>"
      ],
      "text/plain": [
       "LogisticRegression()"
      ]
     },
     "execution_count": 21,
     "metadata": {},
     "output_type": "execute_result"
    }
   ],
   "source": [
    "from sklearn.linear_model import LogisticRegression\n",
    "lr = LogisticRegression()\n",
    "lr.fit(X_train_pca,y_train)"
   ]
  },
  {
   "cell_type": "code",
   "execution_count": 22,
   "metadata": {},
   "outputs": [
    {
     "name": "stdout",
     "output_type": "stream",
     "text": [
      "TRAINING RESULTS:\n",
      "\n",
      "Accuracy Score: 0.5968\n",
      "\n",
      "Classification Report:\n",
      "              precision    recall  f1-score   support\n",
      "\n",
      "           0       0.58      0.34      0.43     20416\n",
      "           1       0.60      0.80      0.69     25385\n",
      "\n",
      "    accuracy                           0.60     45801\n",
      "   macro avg       0.59      0.57      0.56     45801\n",
      "weighted avg       0.59      0.60      0.57     45801\n",
      "\n",
      "\n",
      "Confusion Matrix:\n",
      "[[ 7012 13404]\n",
      " [ 5062 20323]]\n",
      "\n",
      "Average Accuracy:\t0.5966\n",
      "\n",
      "Standard Deviation:\t0.0080\n"
     ]
    }
   ],
   "source": [
    "print(\"TRAINING RESULTS:\\n\")\n",
    "\n",
    "# Calculate accuracy score\n",
    "accuracy = accuracy_score(y_train, lr.predict(X_train_pca))\n",
    "print(f\"Accuracy Score: {accuracy:.4f}\\n\")\n",
    "\n",
    "# Generate classification report\n",
    "classification_report_result = classification_report(y_train, lr.predict(X_train_pca))\n",
    "print(f\"Classification Report:\\n{classification_report_result}\\n\")\n",
    "\n",
    "# Generate confusion matrix\n",
    "confusion_matrix_result = confusion_matrix(y_train, lr.predict(X_train_pca))\n",
    "print(f\"Confusion Matrix:\\n{confusion_matrix_result}\\n\")\n",
    "\n",
    "# Perform cross-validation and calculate average accuracy\n",
    "res = cross_val_score(lr, X_train_pca, y_train, cv=10, n_jobs=-1, scoring='accuracy')\n",
    "average_accuracy = res.mean()\n",
    "print(f\"Average Accuracy:\\t{average_accuracy:.4f}\\n\")\n",
    "\n",
    "# Calculate standard deviation\n",
    "standard_deviation = res.std()\n",
    "print(f\"Standard Deviation:\\t{standard_deviation:.4f}\")"
   ]
  },
  {
   "attachments": {},
   "cell_type": "markdown",
   "metadata": {},
   "source": [
    "## Step 3: Predictive Analyses\n",
    "\n",
    "### Principal Components Analysis"
   ]
  },
  {
   "cell_type": "code",
   "execution_count": 17,
   "metadata": {},
   "outputs": [],
   "source": [
    "# Import the PCA module\n",
    "from sklearn.decomposition import PCA"
   ]
  },
  {
   "attachments": {},
   "cell_type": "markdown",
   "metadata": {},
   "source": [
    "### Random Forest"
   ]
  },
  {
   "cell_type": "code",
   "execution_count": 18,
   "metadata": {},
   "outputs": [],
   "source": [
    "# Import the Random Forest module\n",
    "from sklearn.ensemble import RandomForestClassifier"
   ]
  },
  {
   "attachments": {},
   "cell_type": "markdown",
   "metadata": {},
   "source": [
    "### Logistic Regression"
   ]
  },
  {
   "cell_type": "code",
   "execution_count": 19,
   "metadata": {},
   "outputs": [],
   "source": [
    "# Import the Logistic Regression modules\n",
    "from sklearn.linear_model import LogisticRegression\n",
    "from sklearn.model_selection import cross_val_score"
   ]
  }
 ],
 "metadata": {
  "kernelspec": {
   "display_name": "PythonData",
   "language": "python",
   "name": "python3"
  },
  "language_info": {
   "codemirror_mode": {
    "name": "ipython",
    "version": 3
   },
   "file_extension": ".py",
   "mimetype": "text/x-python",
   "name": "python",
   "nbconvert_exporter": "python",
   "pygments_lexer": "ipython3",
   "version": "3.9.6"
  },
  "orig_nbformat": 4
 },
 "nbformat": 4,
 "nbformat_minor": 2
}
